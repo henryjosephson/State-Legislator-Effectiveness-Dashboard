{
 "cells": [
  {
   "cell_type": "code",
   "execution_count": null,
   "metadata": {},
   "outputs": [],
   "source": [
    "import gc\n",
    "import io\n",
    "import logging\n",
    "import os\n",
    "import sys\n",
    "import ast\n",
    "import re\n",
    "\n",
    "import pandas as pd\n",
    "from legcop import LegiScan\n",
    "\n",
    "sys.path.append(os.getcwd())\n",
    "from leg_eff_secrets import LEGISCAN_API_KEY\n",
    "\n",
    "logging.basicConfig(\n",
    "    level=logging.INFO, format=\"%(asctime)s - %(levelname)s - %(message)s\"\n",
    ")\n",
    "logger = logging.getLogger(__name__)"
   ]
  },
  {
   "cell_type": "markdown",
   "metadata": {},
   "source": [
    "## Read in files"
   ]
  },
  {
   "cell_type": "code",
   "execution_count": null,
   "metadata": {},
   "outputs": [],
   "source": [
    "def load_dataset(state, year):\n",
    "    \"\"\"\n",
    "    checks if datasets are in memory. loads them in if they are, downloads them if they aren't.\n",
    "    only takes a single (state,year) tuple at a time - loop over it if you want more than one.\n",
    "    returns a tuple of dfs: (bills, people, votes)\n",
    "    \"\"\"\n",
    "\n",
    "    if os.path.exists(f\"../../data/raw/{state}-{year}.json\"):\n",
    "        logger.info(\"Dataset already downloaded.\")\n",
    "        try:\n",
    "            bills_df(\n",
    "                pd.read_json(\n",
    "                    f\"../../data/raw/{state}-{year}.json\",\n",
    "                ).reset_index(drop=True),\n",
    "            )\n",
    "            logger.info(\"Dataset loaded into memory.\")\n",
    "            return bills_df\n",
    "        except FileNotFoundError:\n",
    "            logger.info(\"File not found.\")\n",
    "            pass\n",
    "        except Exception as e:\n",
    "            logger.error(\n",
    "                \"Looks like your files are downloaded, but there's something wrong. \"\n",
    "                + \"If you aren't sure what to do, deleting the files and running\"\n",
    "                + \" the code again is usually a safe idea.\"\n",
    "            )\n",
    "\n",
    "    logger.info(f\"Dataset for {state}-{year} is either missing or incomplete.\")\n",
    "\n",
    "    legis = LegiScan(LEGISCAN_API_KEY)\n",
    "\n",
    "    dataset_list = legis.get_dataset_list(state=state, year=year)\n",
    "\n",
    "    ACCESS_KEY = dataset_list[0][\"access_key\"]\n",
    "    SESSION_ID = dataset_list[0][\"session_id\"]\n",
    "\n",
    "    del dataset_list\n",
    "\n",
    "    logger.info(\n",
    "        \"Starting dataset download. This can take my laptop up to around 5 minutes, especially for large datasets.\"\n",
    "    )\n",
    "    dataset = legis.get_dataset(access_key=ACCESS_KEY, session_id=SESSION_ID)\n",
    "    del ACCESS_KEY, SESSION_ID\n",
    "    assert dataset[\"status\"] == \"OK\"\n",
    "\n",
    "    logger.info(\"Download complete. Starting pre-processing.\")\n",
    "\n",
    "    readable_dataset = legis.recode_zipfile(dataset)\n",
    "    namelist = readable_dataset.namelist()\n",
    "\n",
    "    list_of_bill_dfs = []\n",
    "\n",
    "    for file in namelist:\n",
    "        if \"/bill/\" in file:\n",
    "            content = readable_dataset.read(file)\n",
    "            list_of_bill_dfs.append(\n",
    "                pd.read_json(io.StringIO(content.decode(\"UTF-8\"))).T\n",
    "            )\n",
    "\n",
    "    del content, file, dataset, readable_dataset, namelist\n",
    "\n",
    "    bills_df = pd.concat(list_of_bill_dfs)\n",
    "\n",
    "    logger.info(\"Pre-processing complete. Saving to disk.\")\n",
    "\n",
    "    bills_df.reset_index(drop=True).to_json(\n",
    "        f\"../../data/raw/{state}-{year}.json\", index=False\n",
    "    )\n",
    "\n",
    "    return bills_df.reset_index(drop=True)\n",
    "\n",
    "\n",
    "ny_2021_bills = load_dataset(\"NY\", 2021)"
   ]
  },
  {
   "cell_type": "code",
   "execution_count": null,
   "metadata": {},
   "outputs": [],
   "source": [
    "ny_2021_bills = pd.read_json(\n",
    "    f\"../../data/raw/NY-2021.json\",\n",
    ").reset_index(drop=True)"
   ]
  },
  {
   "cell_type": "code",
   "execution_count": null,
   "metadata": {},
   "outputs": [],
   "source": [
    "# get rid of resolutions\n",
    "ny_2021_bills = ny_2021_bills[\n",
    "    (\n",
    "        ny_2021_bills[\"bill_number\"].str.startswith(\"A\")\n",
    "        | ny_2021_bills[\"bill_number\"].str.startswith(\"S\")\n",
    "    )\n",
    "].reset_index(drop=True)\n",
    "\n",
    "\n",
    "# for each bill...\n",
    "# make a SAME_AS column\n",
    "def get_same_as(sasts_column: pd.Series) -> pd.Series:\n",
    "    return sasts_column.apply(\n",
    "        lambda x: x[0][\"sast_bill_number\"] if len(x) > 0 else None\n",
    "    )\n",
    "\n",
    "\n",
    "ny_2021_bills[\"same_as\"] = get_same_as(ny_2021_bills[\"sasts\"])\n",
    "\n",
    "# make a LAW column (bool) that's True if bill enacted OR True if the same_as is enacted\n",
    "#  bill is enacted\n",
    "\n",
    "\n",
    "def expand_progress(progress_list):\n",
    "    progress_dict = {\n",
    "        0: \"N/A Pre-filed or pre-introduction\",\n",
    "        1: \"Introduced\",\n",
    "        2: \"Engrossed\",\n",
    "        3: \"Enrolled\",\n",
    "        4: \"Passed\",\n",
    "        5: \"Vetoed\",\n",
    "        6: \"Failed\",  # Limited support based on state\n",
    "        7: \"Override\",\n",
    "        8: \"Chaptered\",\n",
    "        9: \"Refer\",\n",
    "        10: \"Report Pass\",\n",
    "        11: \"Report DNP\",\n",
    "        12: \"Draft\",\n",
    "    }\n",
    "\n",
    "    if len(progress_list) == 0:\n",
    "        return []\n",
    "\n",
    "    templist = []\n",
    "\n",
    "    for update in progress_list:\n",
    "        templist.append(progress_dict[update[\"event\"]].lower())\n",
    "    return templist\n",
    "\n",
    "\n",
    "def expand_history(history_list):\n",
    "    if len(history_list) == 0:\n",
    "        return []\n",
    "\n",
    "    templist = []\n",
    "\n",
    "    for update in history_list:\n",
    "        templist.append(update[\"action\"].lower())\n",
    "    return templist\n",
    "\n",
    "\n",
    "def expand_votes(vote_list):\n",
    "    if len(vote_list) == 0:\n",
    "        return []\n",
    "\n",
    "    templist = []\n",
    "\n",
    "    for update in vote_list:\n",
    "        templist.append(update[\"desc\"].lower())\n",
    "    return templist\n",
    "\n",
    "\n",
    "ny_2021_bills[\"exp_progress\"] = ny_2021_bills[\"progress\"].apply(expand_progress)\n",
    "ny_2021_bills[\"exp_history\"] = ny_2021_bills[\"history\"].apply(expand_history)\n",
    "ny_2021_bills[\"exp_votes\"] = ny_2021_bills[\"votes\"].apply(expand_votes)\n",
    "\n",
    "# get BILL\n",
    "ny_2021_bills[\"BILL\"] = ny_2021_bills[\"exp_progress\"].apply(\n",
    "    lambda x: \"Introduced\" in x if x is not None else False\n",
    ")\n",
    "# get AIC (check history?)\n",
    "\n",
    "# get ABC (check history?)\n",
    "\n",
    "# get PASS (check bill ID + history)\n",
    "ny_2021_bills[\"chamber_of_origin\"] = (\n",
    "    ny_2021_bills[\"bill_number\"]\n",
    "    .str[0]\n",
    "    .apply(lambda x: {\"A\": \"assembly\", \"S\": \"senate\"}[x])\n",
    ")\n",
    "\n",
    "ny_2021_bills[\"PASS\"] = ny_2021_bills.apply(\n",
    "    lambda row: f\"passed {row['chamber_of_origin']}\" in row[\"exp_history\"],\n",
    "    axis=1,\n",
    ")\n",
    "\n",
    "# get LAW\n",
    "ny_2021_bills[\"LAW\"] = ny_2021_bills[\"exp_history\"].apply(\n",
    "    lambda history_list: any(\"signed\" in x for x in history_list)\n",
    ")"
   ]
  },
  {
   "cell_type": "code",
   "execution_count": null,
   "metadata": {},
   "outputs": [],
   "source": [
    "def standardize_bill_number_length(bill_number: str) -> str:\n",
    "    bill_letter = bill_number[0]\n",
    "    bill_number = bill_number[1:]\n",
    "\n",
    "    if bool(re.search(r\"[a-zA-Z]\", bill_number)):\n",
    "        bill_number = bill_number[:-1]\n",
    "\n",
    "    if len(bill_number) < 5:\n",
    "        bill_number = \"0\" * (5 - len(bill_number)) + bill_number\n",
    "    return bill_letter.upper() + bill_number"
   ]
  },
  {
   "cell_type": "code",
   "execution_count": null,
   "metadata": {},
   "outputs": [],
   "source": [
    "ny_2021_bills[\n",
    "    ny_2021_bills[\"exp_votes\"].apply(\n",
    "        lambda votelist: not any(\"committee vote\" in vote for vote in votelist)\n",
    "    )\n",
    "].sample()[\"exp_history\"].iloc[0]"
   ]
  },
  {
   "cell_type": "code",
   "execution_count": null,
   "metadata": {},
   "outputs": [],
   "source": [
    "ny_2021_bills[ny_2021_bills[\"votes\"].astype(bool)][\"exp_votes\"].sample().iloc[0]"
   ]
  },
  {
   "cell_type": "code",
   "execution_count": null,
   "metadata": {},
   "outputs": [],
   "source": [
    "ny_2021_bills[\"substituted_by\"] = (\n",
    "    ny_2021_bills[\"exp_history\"]\n",
    "    .apply(\n",
    "        lambda history_list: (\n",
    "            history_list[-1].split()[-1]\n",
    "            if any(\"substituted by\" in x for x in history_list)\n",
    "            else None\n",
    "        )\n",
    "    )\n",
    "    .apply(lambda x: standardize_bill_number_length(x) if x is not None else None)\n",
    ")\n",
    "\n",
    "enacted_nos = ny_2021_bills[ny_2021_bills[\"LAW\"]][\"bill_number\"]\n",
    "ny_2021_bills = ny_2021_bills[\n",
    "    ~ny_2021_bills[\"bill_number\"].isin(enacted_nos)\n",
    "    & ny_2021_bills[\"substituted_by\"].isin(enacted_nos)\n",
    "]\n",
    "# phew"
   ]
  },
  {
   "cell_type": "code",
   "execution_count": null,
   "metadata": {},
   "outputs": [],
   "source": [
    "ny_2021_bills[ny_2021_bills[\"bill_number\"] == \"S07237\"][\"exp_history\"].iloc[0]"
   ]
  },
  {
   "cell_type": "code",
   "execution_count": null,
   "metadata": {},
   "outputs": [],
   "source": [
    "passed_bill_nos = ny_2021_bills[ny_2021_bills[\"PASS\"]][\"bill_number\"]"
   ]
  },
  {
   "cell_type": "code",
   "execution_count": null,
   "metadata": {},
   "outputs": [],
   "source": [
    "for _, row in ny_2021_bills[~ny_2021_bills.PASS].iterrows():\n",
    "    if row[\"same_as\"] in passed_bill_nos:\n",
    "        print(row[\"same_as\"])\n",
    "\n",
    "# glad this doesn't look like it'll be a problem"
   ]
  },
  {
   "cell_type": "code",
   "execution_count": null,
   "metadata": {},
   "outputs": [],
   "source": [
    "# ny_2023_bills['primary_sponsor'] =\n",
    "ny_2023_bills[\"sponsors\"].apply(\n",
    "    lambda spons_dict: [x for x in spons_dict if x[\"sponsor_type_id\"] == 1]\n",
    ").apply(len)\n",
    "\n",
    "# TODO: use sponsors"
   ]
  },
  {
   "cell_type": "code",
   "execution_count": null,
   "metadata": {},
   "outputs": [],
   "source": [
    "ny_2023_bills.loc[0].sponsors"
   ]
  },
  {
   "cell_type": "code",
   "execution_count": null,
   "metadata": {},
   "outputs": [],
   "source": [
    "ny_2023_bills.history"
   ]
  },
  {
   "cell_type": "code",
   "execution_count": null,
   "metadata": {},
   "outputs": [],
   "source": [
    "ny_2023_bills[ny_2023_bills[\"PASS\"] == True].sponsors.iloc[0]"
   ]
  },
  {
   "cell_type": "code",
   "execution_count": null,
   "metadata": {},
   "outputs": [],
   "source": [
    "ny_2023_bills.loc[10593].progress"
   ]
  },
  {
   "cell_type": "code",
   "execution_count": null,
   "metadata": {},
   "outputs": [],
   "source": [
    "ny_2023_bills.loc[\n",
    "    [10593, 6591, 7458, 3557, 3914, 7868, 1148, 7295, 2352, 2062]\n",
    "].progress"
   ]
  },
  {
   "cell_type": "code",
   "execution_count": null,
   "metadata": {},
   "outputs": [],
   "source": [
    "ny_2023_bills.sort_values(by=\"progress\", key=lambda x: len(x) if x is not None else 1)"
   ]
  },
  {
   "cell_type": "code",
   "execution_count": null,
   "metadata": {},
   "outputs": [],
   "source": [
    "ny_2023_bills.loc[ny_2023_bills[\"bill_number\"] == \"A07628\"][\"progress\"].iloc[0]"
   ]
  },
  {
   "cell_type": "code",
   "execution_count": null,
   "metadata": {},
   "outputs": [],
   "source": [
    "ny_2023_bills.loc[ny_2023_bills[\"bill_number\"] == \"S06564\"][\"progress\"].iloc[0]"
   ]
  },
  {
   "cell_type": "code",
   "execution_count": null,
   "metadata": {},
   "outputs": [],
   "source": []
  },
  {
   "cell_type": "code",
   "execution_count": null,
   "metadata": {},
   "outputs": [],
   "source": []
  },
  {
   "cell_type": "code",
   "execution_count": null,
   "metadata": {},
   "outputs": [],
   "source": [
    "bills_df.sort_values(\n",
    "    by=\"history\",\n",
    "    key=lambda col: col.apply(len),\n",
    "    ascending=False,\n",
    ").iloc[1]"
   ]
  },
  {
   "cell_type": "code",
   "execution_count": null,
   "metadata": {},
   "outputs": [],
   "source": [
    "bills_df.sort_values(\n",
    "    by=\"history\",\n",
    "    key=lambda col: col.apply(len),\n",
    "    ascending=False,\n",
    ")  # .iloc[1]"
   ]
  },
  {
   "cell_type": "code",
   "execution_count": null,
   "metadata": {},
   "outputs": [],
   "source": [
    "bills_df[\"sponsors\"]  # .apply(lambda x: list(x)[0])"
   ]
  },
  {
   "cell_type": "code",
   "execution_count": null,
   "metadata": {},
   "outputs": [],
   "source": []
  },
  {
   "cell_type": "code",
   "execution_count": null,
   "metadata": {},
   "outputs": [],
   "source": [
    "def find_same_as(df_row):\n",
    "    "
   ]
  },
  {
   "cell_type": "code",
   "execution_count": null,
   "metadata": {},
   "outputs": [],
   "source": [
    "bills_df.loc[\n",
    "    bills_df[\"bill_number\"]\n",
    "    .str.lower()\n",
    "    .apply(lambda x: bool(re.match(x, standardize_bill_number_length(\"a7560b\"))))\n",
    "]"
   ]
  }
 ],
 "metadata": {
  "kernelspec": {
   "display_name": ".venv",
   "language": "python",
   "name": "python3"
  },
  "language_info": {
   "codemirror_mode": {
    "name": "ipython",
    "version": 3
   },
   "file_extension": ".py",
   "mimetype": "text/x-python",
   "name": "python",
   "nbconvert_exporter": "python",
   "pygments_lexer": "ipython3",
   "version": "3.12.5"
  }
 },
 "nbformat": 4,
 "nbformat_minor": 2
}
